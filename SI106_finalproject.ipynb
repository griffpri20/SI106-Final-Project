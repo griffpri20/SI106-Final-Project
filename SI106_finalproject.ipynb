{
 "cells": [
  {
   "cell_type": "code",
   "execution_count": 101,
   "metadata": {},
   "outputs": [],
   "source": [
    "#Import most required functions, defines 'pretty' function for txt file, and holds client key/secret\n",
    "import json \n",
    "import csv\n",
    "import requests_oauthlib\n",
    "import unittest \n",
    "import webbrowser \n",
    "import requests \n",
    "\n",
    "\n",
    "\n",
    "def pretty(obj):\n",
    "    return json.dumps(obj, sort_keys=True, indent=2)\n",
    "\n",
    "client_key = '3bvorYE03pVNDoBAQn1OOyHPy'\n",
    "client_secret = 'BkDRZVyZINMlBXjVCrzElOJTomSeOQdLCS8zfbAd6gqsZPWStG'"
   ]
  },
  {
   "cell_type": "code",
   "execution_count": 102,
   "metadata": {},
   "outputs": [],
   "source": [
    "# Gives list of stop words and puts in variable SW \n",
    "def installnlkt():\n",
    "    !pip install nltk\n",
    "    import nltk\n",
    "    from nltk.corpus import stopwords\n",
    "    nltk.download('stopwords')\n",
    "    SW = list(set(stopwords.words('english')))\n",
    "    return SW\n"
   ]
  },
  {
   "cell_type": "code",
   "execution_count": 103,
   "metadata": {},
   "outputs": [],
   "source": [
    "# Tells if client key is incorrect \n",
    "if not client_secret or not client_key:\n",
    "    print(\"You need to fill in client_key and client_secret. See comments in the code around line 8-14\")\n",
    "    exit()"
   ]
  },
  {
   "cell_type": "code",
   "execution_count": 104,
   "metadata": {},
   "outputs": [],
   "source": [
    "# Gets required tokens for using the API\n",
    "def get_tokens():\n",
    "    oauth = requests_oauthlib.OAuth1Session(client_key, client_secret=client_secret)\n",
    "    request_token_url = 'https://api.twitter.com/oauth/request_token'\n",
    "    fetch_response = oauth.fetch_request_token(request_token_url)\n",
    "    resource_owner_key = fetch_response.get('oauth_token')\n",
    "    resource_owner_secret = fetch_response.get('oauth_token_secret')\n",
    "\n",
    "    base_authorization_url = 'https://api.twitter.com/oauth/authorize'\n",
    "    authorization_url = oauth.authorization_url(base_authorization_url)\n",
    "    webbrowser.open(authorization_url)    \n",
    "    print(\"\"\"\n",
    "          Please click on the URL below, \n",
    "          click on \"Authorize App\", \n",
    "          and then copy the PIN and paste it below.\"\"\")\n",
    "    \n",
    "    print(authorization_url)\n",
    "    \n",
    "    verifier = input('Please input the verifier >>> ')\n",
    "\n",
    "    oauth = requests_oauthlib.OAuth1Session(client_key,\n",
    "                              client_secret=client_secret,\n",
    "                              resource_owner_key=resource_owner_key,\n",
    "                              resource_owner_secret=resource_owner_secret,\n",
    "                              verifier=verifier)\n",
    "\n",
    "    access_token_url = 'https://api.twitter.com/oauth/access_token'\n",
    "    oauth_tokens = oauth.fetch_access_token(access_token_url)\n",
    "    resource_owner_key = oauth_tokens.get('oauth_token')\n",
    "    resource_owner_secret = oauth_tokens.get('oauth_token_secret')\n",
    "    return (client_key, client_secret, resource_owner_key, resource_owner_secret, verifier)\n",
    "\n",
    "# Checks to see if there is a creds.txt file \n",
    "\n",
    "try:\n",
    "    f = open(\"creds.txt\", 'r')\n",
    "    (client_key, client_secret, resource_owner_key, resource_owner_secret, verifier) = json.loads(f.read())\n",
    "    f.close()\n",
    "except:\n",
    "    tokens = get_tokens()\n",
    "    f = open(\"creds.txt\", 'w')\n",
    "    f.write(json.dumps(tokens))\n",
    "    f.close()\n",
    "    (client_key, client_secret, resource_owner_key, resource_owner_secret, verifier) = tokens\n"
   ]
  },
  {
   "cell_type": "code",
   "execution_count": null,
   "metadata": {},
   "outputs": [],
   "source": []
  },
  {
   "cell_type": "code",
   "execution_count": 105,
   "metadata": {},
   "outputs": [],
   "source": [
    "# Performs request to use twitter data \n",
    "protected_url = 'https://api.twitter.com/1.1/account/settings.json'\n",
    "oauth = requests_oauthlib.OAuth1Session(client_key,\n",
    "                        client_secret=client_secret,\n",
    "                        resource_owner_key=resource_owner_key,\n",
    "                        resource_owner_secret=resource_owner_secret)"
   ]
  },
  {
   "cell_type": "code",
   "execution_count": 119,
   "metadata": {},
   "outputs": [
    {
     "name": "stdout",
     "output_type": "stream",
     "text": [
      "Enter hashtag that you wish to have an Itunes playlist created for (Without the #) : lol\n"
     ]
    }
   ],
   "source": [
    "# Requests any hashtag from user, pages, and puts into 'res' \n",
    "\n",
    "\n",
    "userinput = input('Enter hashtag that you wish to have an Itunes playlist created for (Without the #) : ')\n",
    "hold = userinput.lower()\n",
    "hashtag = '#{}'.format(hold)\n",
    "\n",
    "\n",
    "r = oauth.get(\"https://api.twitter.com/1.1/search/tweets.json\", params = \n",
    "                                                                  {'q': hashtag,\n",
    "                                                                   'lang': 'en',\n",
    "                                                                   'count' : 100})\n",
    "\n",
    "res = r.json()\n",
    "\n",
    "new_params = {'q' : hashtag,\n",
    "              'count' : 100}\n",
    "new_params['max_id'] = (res['search_metadata']['max_id']) - 1\n",
    "r2 = oauth.get(\"https://api.twitter.com/1.1/search/tweets.json\", params = new_params) \n",
    "rest = r2.json()['statuses']\n",
    "\n",
    "res['statuses'] += rest\n",
    "dict_of_all_tweets = res\n"
   ]
  },
  {
   "cell_type": "code",
   "execution_count": 120,
   "metadata": {},
   "outputs": [],
   "source": [
    "r = oauth.get(\"https://api.twitter.com/1.1/search/tweets.json\", params = \n",
    "                                                                  {'q': hashtag,\n",
    "                                                                   'lang': 'en',\n",
    "                                                                   'count' : 100})\n",
    "res = r.json()\n",
    "new_params = {'q' : hashtag,\n",
    "              'count' : 100}\n",
    "new_params['max_id'] = (res['search_metadata']['max_id']) - 1\n",
    "r2 = oauth.get(\"https://api.twitter.com/1.1/search/tweets.json\", params = new_params) \n",
    "rest = r2.json()['statuses']\n",
    "\n",
    "res['statuses'] += rest\n",
    "dict_of_all_tweets = res\n",
    "\n",
    "if not dict_of_all_tweets:\n",
    "    print('Nothing came up for this search querey, please try again')\n"
   ]
  },
  {
   "cell_type": "code",
   "execution_count": 121,
   "metadata": {},
   "outputs": [],
   "source": [
    "# Writes all the data from the 200 tweets to 'nested.txt' to look at \n",
    "f = open('nested.txt', 'w')\n",
    "f.write(pretty(dict_of_all_tweets))\n",
    "f.close()"
   ]
  },
  {
   "cell_type": "code",
   "execution_count": 122,
   "metadata": {},
   "outputs": [],
   "source": [
    "#definition of class Tweet \n",
    "class Tweet():\n",
    "    def __init__(self, dic = {}):\n",
    "        if 'text' in dic:\n",
    "            self.text = dic['text']\n",
    "        else:\n",
    "            self.text = ''\n",
    "        self.favorites = dic['favorite_count']\n",
    "        self.retweets = dic['retweet_count']\n",
    "    def __str__(self):\n",
    "        tweet = \"This body of this tweet says: {} \\n\".format(self.text)\n",
    "        stats = \"This tweet has {} retweets and {} favorites\".format(self.retweets, self.favorites)\n",
    "        return tweet + stats\n",
    "    def stopwords(self, stopwds):\n",
    "        updated = [x for x in self.text.split() if x.lower() not in SW]\n",
    "        return updated\n",
    "    \n",
    "        \n",
    "        \n",
    "    "
   ]
  },
  {
   "cell_type": "code",
   "execution_count": 123,
   "metadata": {},
   "outputs": [
    {
     "name": "stdout",
     "output_type": "stream",
     "text": [
      "Requirement already satisfied: nltk in /opt/conda/lib/python3.6/site-packages\n",
      "Requirement already satisfied: six in /opt/conda/lib/python3.6/site-packages (from nltk)\n",
      "\u001b[33mYou are using pip version 9.0.1, however version 9.0.3 is available.\n",
      "You should consider upgrading via the 'pip install --upgrade pip' command.\u001b[0m\n",
      "[nltk_data] Downloading package stopwords to /home/jovyan/nltk_data...\n",
      "[nltk_data]   Package stopwords is already up-to-date!\n"
     ]
    }
   ],
   "source": [
    "# creates LIST of instances of class tweet \n",
    "SW = installnlkt()\n",
    "\n",
    "list_of_tweets = []\n",
    "iterator = 0\n",
    "for x in dict_of_all_tweets['statuses']: \n",
    "    y = Tweet(x)\n",
    "    if iterator == 0:\n",
    "        savedTweet = y \n",
    "    z = y.stopwords(SW)\n",
    "    list_of_tweets.append(z)\n",
    "    iterator += 1\n",
    "\n"
   ]
  },
  {
   "cell_type": "code",
   "execution_count": 124,
   "metadata": {},
   "outputs": [],
   "source": [
    "# Using those instances and their capabilities, find the most common word that is at \n",
    "#           least five letters long and is not a “stopword”, across all of the tweets.\n",
    "\n",
    "common_words = {}\n",
    "for x in list_of_tweets:\n",
    "    for y in x:\n",
    "        g = y.lower()\n",
    "        z = g.strip('!@#$%^&*_+=-|\\\"/:;<,>.?/~`')\n",
    "        # Eliminated the inputed word from dictionary as it would otherwise always be the most popular \n",
    "        if len(z) >= 5 and 'https' not in z and z != userinput:\n",
    "            if z not in common_words:\n",
    "                common_words[z] = 0\n",
    "            common_words[z] += 1\n",
    "\n",
    "sorted_words = {}\n",
    "for a in sorted(common_words, key = lambda j: common_words[j], reverse = True):\n",
    "    sorted_words[a] = common_words[a]\n",
    "    \n",
    "most_common = list(sorted_words)[0]\n",
    "\n"
   ]
  },
  {
   "cell_type": "code",
   "execution_count": 125,
   "metadata": {},
   "outputs": [],
   "source": [
    "#gets info from Itunes\n",
    "itunes = requests.get('https://itunes.apple.com/search?parameterkeyvalue', params = {\n",
    "                     'term' : most_common,\n",
    "                     'country' : 'US',\n",
    "                     'media' : 'music'})\n",
    "songs = itunes.json()"
   ]
  },
  {
   "cell_type": "code",
   "execution_count": 126,
   "metadata": {},
   "outputs": [],
   "source": [
    "#definition of class Song\n",
    "class Song():\n",
    "    def __init__(self, dic = {}):\n",
    "        self.title = dic['trackName']\n",
    "        self.length = dic['trackTimeMillis']\n",
    "        self.artist = dic['artistName']\n",
    "        if 'collectionName' in dic:\n",
    "            self.album = dic['collectionName']\n",
    "        else:\n",
    "            self.album = ''\n",
    "        if 'primaryGenreName' in dic:\n",
    "            self.genre = dic['primaryGenreName']\n",
    "        else:\n",
    "            self.genre = ''\n",
    "    def __str__(self):\n",
    "        z = \"Song Title: {}, Song Duration: {}\".format(self.title, self.converttominutes())\n",
    "        return z\n",
    "    def converttominutes(self):\n",
    "        totsec = int(self.length / 1000)\n",
    "        mins = int(totsec // 60)\n",
    "        sec = int(totsec % 60)\n",
    "        if sec >= 0 and sec <= 9:\n",
    "            sec = '0' + str(sec)\n",
    "        return '{}:{}'.format(mins, sec)\n",
    "\n",
    "        \n",
    "        \n"
   ]
  },
  {
   "cell_type": "code",
   "execution_count": 127,
   "metadata": {},
   "outputs": [],
   "source": [
    "#creates list of Song() instances and sorts by length \n",
    "list_of_songs = [Song(x) for x in songs['results']]\n",
    "sorted_songs = []\n",
    "it = 0\n",
    "for w in sorted(list_of_songs, reverse = True, key = lambda y: int(y.length)):\n",
    "    sorted_songs.append(w)\n",
    "    if it == 0:\n",
    "        savedSong = w\n",
    "    it += 1\n",
    "\n",
    "\n",
    "    \n",
    "    "
   ]
  },
  {
   "cell_type": "code",
   "execution_count": 128,
   "metadata": {},
   "outputs": [],
   "source": [
    "#creates CSV file\n",
    "def wsonginfo(L):\n",
    "    outfile = open('songinfo.csv', 'w')\n",
    "    outfile.write('Song Title, Artist, Length, Album, Genre\\n')\n",
    "    for t in L:\n",
    "        outfile.write('{}, {}, {}, {}, {}\\n'.format(t.title, t.artist, t.converttominutes(), t.album, t.genre))\n",
    "    outfile.close()\n",
    "    return None\n"
   ]
  },
  {
   "cell_type": "code",
   "execution_count": 129,
   "metadata": {},
   "outputs": [],
   "source": [
    "# Summarizes what happened \n",
    "def summary(tweet, song):\n",
    "    print('The program has finished running.')\n",
    "    print('The most popular word found on Twitter using your hashtag was \"{}\"'.format(most_common))\n",
    "    print('One of the Tweets you requested can be found below: \\n')\n",
    "    print(tweet.__str__())\n",
    "    print('\\nThe first song found when searching that word in Itunes can be found below: \\n')\n",
    "    print(song.__str__())\n",
    "    print('\\nThank you for using this program.')\n",
    "    return None \n"
   ]
  },
  {
   "cell_type": "code",
   "execution_count": 130,
   "metadata": {},
   "outputs": [
    {
     "name": "stdout",
     "output_type": "stream",
     "text": [
      "The program has finished running.\n",
      "The most popular word found on Twitter using your hashtag was \"funny\"\n",
      "One of the Tweets you requested can be found below: \n",
      "\n",
      "This body of this tweet says: @charlieventuri @ManCity I was gutted buddy...But today we won the league thanks to a class performance by… https://t.co/kyb3vlDvAQ \n",
      "This tweet has 0 retweets and 0 favorites\n",
      "\n",
      "The first song found when searching that word in Itunes can be found below: \n",
      "\n",
      "Song Title: Road Manager, Song Duration: 7:36\n",
      "\n",
      "Thank you for using this program.\n"
     ]
    }
   ],
   "source": [
    "#writes final product and gives summary \n",
    "wsonginfo(sorted_songs)\n",
    "summary(savedTweet, savedSong)"
   ]
  },
  {
   "cell_type": "code",
   "execution_count": null,
   "metadata": {},
   "outputs": [],
   "source": []
  }
 ],
 "metadata": {
  "kernelspec": {
   "display_name": "Python 3",
   "language": "python",
   "name": "python3"
  },
  "language_info": {
   "codemirror_mode": {
    "name": "ipython",
    "version": 3
   },
   "file_extension": ".py",
   "mimetype": "text/x-python",
   "name": "python",
   "nbconvert_exporter": "python",
   "pygments_lexer": "ipython3",
   "version": "3.6.4"
  }
 },
 "nbformat": 4,
 "nbformat_minor": 2
}
